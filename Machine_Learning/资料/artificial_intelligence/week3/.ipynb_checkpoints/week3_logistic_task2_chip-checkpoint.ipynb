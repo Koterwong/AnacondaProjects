{
 "cells": [
  {
   "cell_type": "markdown",
   "metadata": {},
   "source": [
    "# 逻辑回归预测芯片质量通过"
   ]
  },
  {
   "cell_type": "markdown",
   "metadata": {},
   "source": [
    "**任务:**\n",
    "\n",
    "1、基于chip_test.csv数据，建立逻辑回归模型(二阶边界)，评估模型表现；\n",
    "2、以函数的方式求解边界曲线\n",
    "3、描绘出完整的决策边界曲线"
   ]
  },
  {
   "cell_type": "raw",
   "metadata": {},
   "source": [
    "@Author  : Flare Zhao\n",
    "@Email: 454209979@qq.com\n",
    "@QQ讨论群：530533630  申请加群的验证信息为订单号（粘贴号码数字即可）"
   ]
  },
  {
   "cell_type": "code",
   "execution_count": 1,
   "metadata": {},
   "outputs": [],
   "source": [
    "#load data; visualize data;#generate new data\n",
    "#establish model and train it; predict\n",
    "#accuracy\n",
    "#decision boundary\n",
    "#define f(x)\n"
   ]
  },
  {
   "cell_type": "code",
   "execution_count": 2,
   "metadata": {},
   "outputs": [
    {
     "data": {
      "text/html": [
       "<div>\n",
       "<style scoped>\n",
       "    .dataframe tbody tr th:only-of-type {\n",
       "        vertical-align: middle;\n",
       "    }\n",
       "\n",
       "    .dataframe tbody tr th {\n",
       "        vertical-align: top;\n",
       "    }\n",
       "\n",
       "    .dataframe thead th {\n",
       "        text-align: right;\n",
       "    }\n",
       "</style>\n",
       "<table border=\"1\" class=\"dataframe\">\n",
       "  <thead>\n",
       "    <tr style=\"text-align: right;\">\n",
       "      <th></th>\n",
       "      <th>test1</th>\n",
       "      <th>test2</th>\n",
       "      <th>pass</th>\n",
       "    </tr>\n",
       "  </thead>\n",
       "  <tbody>\n",
       "    <tr>\n",
       "      <th>0</th>\n",
       "      <td>0.051267</td>\n",
       "      <td>0.69956</td>\n",
       "      <td>1</td>\n",
       "    </tr>\n",
       "    <tr>\n",
       "      <th>1</th>\n",
       "      <td>-0.092742</td>\n",
       "      <td>0.68494</td>\n",
       "      <td>1</td>\n",
       "    </tr>\n",
       "    <tr>\n",
       "      <th>2</th>\n",
       "      <td>-0.213710</td>\n",
       "      <td>0.69225</td>\n",
       "      <td>1</td>\n",
       "    </tr>\n",
       "    <tr>\n",
       "      <th>3</th>\n",
       "      <td>-0.375000</td>\n",
       "      <td>0.50219</td>\n",
       "      <td>1</td>\n",
       "    </tr>\n",
       "    <tr>\n",
       "      <th>4</th>\n",
       "      <td>0.183760</td>\n",
       "      <td>0.93348</td>\n",
       "      <td>0</td>\n",
       "    </tr>\n",
       "  </tbody>\n",
       "</table>\n",
       "</div>"
      ],
      "text/plain": [
       "      test1    test2  pass\n",
       "0  0.051267  0.69956     1\n",
       "1 -0.092742  0.68494     1\n",
       "2 -0.213710  0.69225     1\n",
       "3 -0.375000  0.50219     1\n",
       "4  0.183760  0.93348     0"
      ]
     },
     "execution_count": 2,
     "metadata": {},
     "output_type": "execute_result"
    }
   ],
   "source": [
    "#load the data\n",
    "import pandas as pd\n",
    "import numpy as np\n",
    "data = pd.read_csv('chip_test.csv')\n",
    "data.head()"
   ]
  },
  {
   "cell_type": "code",
   "execution_count": 3,
   "metadata": {},
   "outputs": [
    {
     "name": "stdout",
     "output_type": "stream",
     "text": [
      "0      False\n",
      "1      False\n",
      "2      False\n",
      "3      False\n",
      "4       True\n",
      "       ...  \n",
      "113     True\n",
      "114     True\n",
      "115     True\n",
      "116     True\n",
      "117     True\n",
      "Name: pass, Length: 118, dtype: bool\n"
     ]
    }
   ],
   "source": [
    "#add label mask\n",
    "mask=data.loc[:,'pass']==1\n",
    "print(~mask)"
   ]
  },
  {
   "cell_type": "code",
   "execution_count": 4,
   "metadata": {},
   "outputs": [
    {
     "data": {
      "image/png": "[encoded data removed]",
      "text/plain": [
       "<Figure size 432x288 with 1 Axes>"
      ]
     },
     "metadata": {
      "needs_background": "light"
     },
     "output_type": "display_data"
    }
   ],
   "source": [
    "#visualize the data\n",
    "%matplotlib inline \n",
    "from matplotlib import pyplot as plt\n",
    "fig1 = plt.figure()\n",
    "passed=plt.scatter(data.loc[:,'test1'][mask],data.loc[:,'test2'][mask])\n",
    "failed=plt.scatter(data.loc[:,'test1'][~mask],data.loc[:,'test2'][~mask])\n",
    "plt.title('test1-test2')\n",
    "plt.xlabel('test1')\n",
    "plt.ylabel('test2')\n",
    "plt.legend((passed,failed),('passed','failed'))\n",
    "plt.show()"
   ]
  },
  {
   "cell_type": "code",
   "execution_count": 5,
   "metadata": {},
   "outputs": [
    {
     "name": "stdout",
     "output_type": "stream",
     "text": [
      "           X1        X2      X1_2      X2_2     X1_X2\n",
      "0    0.051267  0.699560  0.002628  0.489384  0.035864\n",
      "1   -0.092742  0.684940  0.008601  0.469143 -0.063523\n",
      "2   -0.213710  0.692250  0.045672  0.479210 -0.147941\n",
      "3   -0.375000  0.502190  0.140625  0.252195 -0.188321\n",
      "4    0.183760  0.933480  0.033768  0.871385  0.171536\n",
      "..        ...       ...       ...       ...       ...\n",
      "113 -0.720620  0.538740  0.519293  0.290241 -0.388227\n",
      "114 -0.593890  0.494880  0.352705  0.244906 -0.293904\n",
      "115 -0.484450  0.999270  0.234692  0.998541 -0.484096\n",
      "116 -0.006336  0.999270  0.000040  0.998541 -0.006332\n",
      "117  0.632650 -0.030612  0.400246  0.000937 -0.019367\n",
      "\n",
      "[118 rows x 5 columns]\n"
     ]
    }
   ],
   "source": [
    "#define X,y\n",
    "X = data.drop(['pass'],axis=1)\n",
    "y = data.loc[:,'pass']\n",
    "X1 = data.loc[:,'test1']\n",
    "X2 = data.loc[:,'test2']\n",
    "X1.head()\n",
    "#create new data\n",
    "X1_2 = X1*X1\n",
    "X2_2 = X2*X2\n",
    "X1_X2 = X1*X2\n",
    "X_new = {'X1':X1,'X2':X2,'X1_2':X1_2,'X2_2':X2_2,'X1_X2':X1_X2}\n",
    "X_new = pd.DataFrame(X_new)\n",
    "print(X_new)"
   ]
  },
  {
   "cell_type": "code",
   "execution_count": 6,
   "metadata": {},
   "outputs": [
    {
     "data": {
      "text/plain": [
       "LogisticRegression(C=1.0, class_weight=None, dual=False, fit_intercept=True,\n",
       "                   intercept_scaling=1, l1_ratio=None, max_iter=100,\n",
       "                   multi_class='auto', n_jobs=None, penalty='l2',\n",
       "                   random_state=None, solver='lbfgs', tol=0.0001, verbose=0,\n",
       "                   warm_start=False)"
      ]
     },
     "execution_count": 6,
     "metadata": {},
     "output_type": "execute_result"
    }
   ],
   "source": [
    "#establish new model and train\n",
    "#establish the model and train it\n",
    "from sklearn.linear_model import LogisticRegression\n",
    "LR2 = LogisticRegression()\n",
    "LR2.fit(X_new,y)"
   ]
  },
  {
   "cell_type": "code",
   "execution_count": 7,
   "metadata": {},
   "outputs": [
    {
     "name": "stdout",
     "output_type": "stream",
     "text": [
      "0.8135593220338984\n"
     ]
    }
   ],
   "source": [
    "from sklearn.metrics import accuracy_score\n",
    "y2_predict = LR2.predict(X_new)\n",
    "accuracy2 = accuracy_score(y,y2_predict)\n",
    "print(accuracy2)"
   ]
  },
  {
   "cell_type": "code",
   "execution_count": 8,
   "metadata": {},
   "outputs": [
    {
     "name": "stderr",
     "output_type": "stream",
     "text": [
      "D:\\anaconda3\\lib\\site-packages\\pandas\\core\\series.py:679: RuntimeWarning: invalid value encountered in sqrt\n",
      "  result = getattr(ufunc, method)(*inputs, **kwargs)\n"
     ]
    },
    {
     "data": {
      "image/png": "[encoded data removed]",
      "text/plain": [
       "<Figure size 432x288 with 1 Axes>"
      ]
     },
     "metadata": {
      "needs_background": "light"
     },
     "output_type": "display_data"
    }
   ],
   "source": [
    "X1_new = X1.sort_values()\n",
    "theta0 = LR2.intercept_\n",
    "theta1,theta2,theta3,theta4,theta5 = LR2.coef_[0][0],LR2.coef_[0][1],LR2.coef_[0][2],LR2.coef_[0][3],LR2.coef_[0][4]\n",
    "a = theta4\n",
    "b = theta5*X1_new+theta2\n",
    "c = theta0+theta1*X1_new+theta3*X1_new*X1_new\n",
    "X2_new_boundary = (-b+np.sqrt(b*b-4*a*c))/(2*a)\n",
    "\n",
    "fig2 = plt.figure()\n",
    "passed=plt.scatter(data.loc[:,'test1'][mask],data.loc[:,'test2'][mask])\n",
    "failed=plt.scatter(data.loc[:,'test1'][~mask],data.loc[:,'test2'][~mask])\n",
    "plt.plot(X1_new,X2_new_boundary)\n",
    "plt.title('test1-test2')\n",
    "plt.xlabel('test1')\n",
    "plt.ylabel('test2')\n",
    "plt.legend((passed,failed),('passed','failed'))\n",
    "plt.show()"
   ]
  },
  {
   "cell_type": "code",
   "execution_count": 9,
   "metadata": {},
   "outputs": [
    {
     "data": {
      "text/plain": [
       "112   -0.83007\n",
       "86    -0.75518\n",
       "84    -0.74366\n",
       "111   -0.72638\n",
       "113   -0.72062\n",
       "        ...   \n",
       "70     0.89804\n",
       "65     0.92684\n",
       "68     0.93836\n",
       "67     0.96141\n",
       "101    1.07090\n",
       "Name: test1, Length: 118, dtype: float64"
      ]
     },
     "execution_count": 9,
     "metadata": {},
     "output_type": "execute_result"
    }
   ],
   "source": [
    "d = np.array(b*b-4*a*c)\n",
    "#d = (-b+np.sqrt(b*b-4*a*c))/(2*a)\n",
    "X1_new\n",
    "#print(np.array(d))"
   ]
  },
  {
   "cell_type": "code",
   "execution_count": 10,
   "metadata": {},
   "outputs": [],
   "source": [
    "#define f(x)\n",
    "def f(x):\n",
    "    a = theta4\n",
    "    b = theta5*x+theta2\n",
    "    c = theta0+theta1*x+theta3*x*x\n",
    "    X2_new_boundary1 = (-b+np.sqrt(b*b-4*a*c))/(2*a)\n",
    "    X2_new_boundary2 = (-b-np.sqrt(b*b-4*a*c))/(2*a)\n",
    "    return X2_new_boundary1,X2_new_boundary2"
   ]
  },
  {
   "cell_type": "code",
   "execution_count": 11,
   "metadata": {},
   "outputs": [
    {
     "name": "stderr",
     "output_type": "stream",
     "text": [
      "D:\\anaconda3\\lib\\site-packages\\ipykernel_launcher.py:6: RuntimeWarning: invalid value encountered in sqrt\n",
      "  \n",
      "D:\\anaconda3\\lib\\site-packages\\ipykernel_launcher.py:7: RuntimeWarning: invalid value encountered in sqrt\n",
      "  import sys\n"
     ]
    },
    {
     "name": "stdout",
     "output_type": "stream",
     "text": [
      "[array([nan]), array([nan]), array([nan]), array([nan]), array([nan]), array([nan]), array([nan]), array([nan]), array([0.1212617]), array([0.04679448]), array([0.02697935]), array([0.00872189]), array([-0.00830576]), array([-0.00830576]), array([-0.11718731]), array([-0.16040224]), array([-0.18016521]), array([-0.18965258]), array([-0.21671004]), array([-0.22530078]), array([-0.23369452]), array([-0.2499261]), array([-0.28761583]), array([-0.30846849]), array([-0.32171919]), array([-0.32816104]), array([-0.33448523]), array([-0.34069505]), array([-0.35278365]), array([-0.35866807]), array([-0.37013014]), array([-0.42186137]), array([-0.42656594]), array([-0.43119936]), array([-0.43574686]), array([-0.44021779]), array([-0.45318277]), array([-0.47336128]), array([-0.47336128]), array([-0.48465118]), array([-0.48828317]), array([-0.49185073]), array([-0.49185073]), array([-0.51193977]), array([-0.51193977]), array([-0.5181489]), array([-0.52412149]), array([-0.52986615]), array([-0.52986615]), array([-0.53264971]), array([-0.54066023]), array([-0.54572074]), array([-0.55055962]), array([-0.55055962]), array([-0.55518131]), array([-0.56170859]), array([-0.56775529]), array([-0.56775529]), array([-0.58002265]), array([-0.58002265]), array([-0.58588805]), array([-0.59313744]), array([-0.59416537]), array([-0.59514154]), array([-0.59852963]), array([-0.60052615]), array([-0.60280757]), array([-0.60310565]), array([-0.60354216]), array([-0.60379456]), array([-0.60355793]), array([-0.60282483]), array([-0.60105947]), array([-0.60105947]), array([-0.60047489]), array([-0.59135016]), array([-0.59135016]), array([-0.59009769]), array([-0.5887809]), array([-0.58285568]), array([-0.58285568]), array([-0.57390312]), array([-0.56073894]), array([-0.55572236]), array([-0.53219481]), array([-0.52181028]), array([-0.51814159]), array([-0.51814159]), array([-0.50647589]), array([-0.48925514]), array([-0.47987024]), array([-0.46991909]), array([-0.45383618]), array([-0.42349291]), array([-0.40276684]), array([-0.38769565]), array([-0.3714656]), array([-0.353902]), array([-0.34523055]), array([-0.33477608]), array([-0.33477608]), array([-0.32451646]), array([-0.26416907]), array([-0.26416907]), array([nan]), array([nan]), array([nan]), array([nan]), array([nan]), array([nan]), array([nan]), array([nan]), array([nan]), array([nan]), array([nan]), array([nan]), array([nan]), array([nan])] [array([nan]), array([nan]), array([nan]), array([nan]), array([nan]), array([nan]), array([nan]), array([nan]), array([0.41115349]), array([0.47870382]), array([0.49620931]), array([0.51216114]), array([0.52688317]), array([0.52688317]), array([0.61731967]), array([0.65131207]), array([0.66646378]), array([0.67364552]), array([0.69378609]), array([0.7000712]), array([0.70615931]), array([0.71777963]), array([0.74393719]), array([0.75787296]), array([0.76651241]), array([0.77064862]), array([0.77466719]), array([0.77857137]), array([0.78604871]), array([0.7896275]), array([0.79647831]), array([0.82515323]), array([0.82755217]), array([0.82987596]), array([0.83211783]), array([0.83428312]), array([0.84033121]), array([0.84898157]), array([0.84898157]), array([0.85335458]), array([0.85468094]), array([0.85594286]), array([0.85594286]), array([0.86219812]), array([0.86219812]), array([0.86379599]), array([0.86515732]), array([0.86628671]), array([0.86628671]), array([0.86676464]), array([0.86785827]), array([0.86830752]), array([0.86853594]), array([0.86853594]), array([0.86854596]), array([0.86815595]), array([0.86728536]), array([0.86728536]), array([0.86341226]), array([0.86341226]), array([0.86005458]), array([0.85346939]), array([0.85219128]), array([0.85086182]), array([0.84502699]), array([0.84010621]), array([0.83085948]), array([0.82885193]), array([0.82467718]), array([0.81801268]), array([0.81085516]), array([0.80320517]), array([0.79221728]), array([0.79221728]), array([0.78932708]), array([0.75714603]), array([0.75714603]), array([0.75358794]), array([0.74996551]), array([0.73481778]), array([0.73481778]), array([0.71433305]), array([0.68733509]), array([0.67770724]), array([0.63573465]), array([0.61843322]), array([0.61245891]), array([0.61245891]), array([0.59387632]), array([0.56742904]), array([0.55343288]), array([0.53887047]), array([0.51587067]), array([0.47399923]), array([0.44635628]), array([0.42667382]), array([0.40583252]), array([0.38365766]), array([0.37284469]), array([0.35992047]), array([0.35992047]), array([0.34735121]), array([0.27547567]), array([0.27547567]), array([nan]), array([nan]), array([nan]), array([nan]), array([nan]), array([nan]), array([nan]), array([nan]), array([nan]), array([nan]), array([nan]), array([nan]), array([nan]), array([nan])]\n"
     ]
    }
   ],
   "source": [
    "X2_new_boundary1 = []\n",
    "X2_new_boundary2 = []\n",
    "for x in X1_new:\n",
    "    X2_new_boundary1.append(f(x)[0])\n",
    "    X2_new_boundary2.append(f(x)[1])\n",
    "print(X2_new_boundary1,X2_new_boundary2)"
   ]
  },
  {
   "cell_type": "code",
   "execution_count": 12,
   "metadata": {},
   "outputs": [
    {
     "data": {
      "image/png": "[encoded data removed]",
      "text/plain": [
       "<Figure size 432x288 with 1 Axes>"
      ]
     },
     "metadata": {
      "needs_background": "light"
     },
     "output_type": "display_data"
    }
   ],
   "source": [
    "fig3 = plt.figure()\n",
    "passed=plt.scatter(data.loc[:,'test1'][mask],data.loc[:,'test2'][mask])\n",
    "failed=plt.scatter(data.loc[:,'test1'][~mask],data.loc[:,'test2'][~mask])\n",
    "plt.plot(X1_new,X2_new_boundary1)\n",
    "plt.plot(X1_new,X2_new_boundary2)\n",
    "plt.title('test1-test2')\n",
    "plt.xlabel('test1')\n",
    "plt.ylabel('test2')\n",
    "plt.legend((passed,failed),('passed','failed'))\n",
    "plt.show()"
   ]
  },
  {
   "cell_type": "code",
   "execution_count": 13,
   "metadata": {},
   "outputs": [
    {
     "name": "stderr",
     "output_type": "stream",
     "text": [
      "D:\\anaconda3\\lib\\site-packages\\ipykernel_launcher.py:6: RuntimeWarning: invalid value encountered in sqrt\n",
      "  \n",
      "D:\\anaconda3\\lib\\site-packages\\ipykernel_launcher.py:7: RuntimeWarning: invalid value encountered in sqrt\n",
      "  import sys\n"
     ]
    }
   ],
   "source": [
    "X1_range = [-0.9 + x/10000 for x in range(0,19000)]\n",
    "X1_range = np.array(X1_range)\n",
    "X2_new_boundary1 = []\n",
    "X2_new_boundary2 = []\n",
    "for x in X1_range:\n",
    "    X2_new_boundary1.append(f(x)[0])\n",
    "    X2_new_boundary2.append(f(x)[1])"
   ]
  },
  {
   "cell_type": "code",
   "execution_count": 14,
   "metadata": {},
   "outputs": [
    {
     "data": {
      "image/png": "[encoded data removed]",
      "text/plain": [
       "<Figure size 432x288 with 1 Axes>"
      ]
     },
     "metadata": {
      "needs_background": "light"
     },
     "output_type": "display_data"
    }
   ],
   "source": [
    "# coding:utf-8\n",
    "import matplotlib as mlp\n",
    "mlp.rcParams['font.family'] = 'SimHei'\n",
    "mlp.rcParams['axes.unicode_minus'] = False\n",
    "fig4 = plt.figure()\n",
    "passed=plt.scatter(data.loc[:,'test1'][mask],data.loc[:,'test2'][mask])\n",
    "failed=plt.scatter(data.loc[:,'test1'][~mask],data.loc[:,'test2'][~mask])\n",
    "plt.plot(X1_range,X2_new_boundary1,'r')\n",
    "plt.plot(X1_range,X2_new_boundary2,'r')\n",
    "plt.title('test1-test2')\n",
    "plt.xlabel('测试1')\n",
    "plt.ylabel('测试2')\n",
    "plt.title('芯片质量预测')\n",
    "plt.legend((passed,failed),('passed','failed'))\n",
    "plt.show()"
   ]
  }
 ],
 "metadata": {
  "kernelspec": {
   "display_name": "Python 3",
   "language": "python",
   "name": "python3"
  },
  "language_info": {
   "codemirror_mode": {
    "name": "ipython",
    "version": 3
   },
   "file_extension": ".py",
   "mimetype": "text/x-python",
   "name": "python",
   "nbconvert_exporter": "python",
   "pygments_lexer": "ipython3",
   "version": "3.7.7"
  }
 },
 "nbformat": 4,
 "nbformat_minor": 1
}
